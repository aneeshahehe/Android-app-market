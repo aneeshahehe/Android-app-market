{
  "nbformat": 4,
  "nbformat_minor": 0,
  "metadata": {
    "colab": {
      "provenance": []
    },
    "kernelspec": {
      "name": "python3",
      "display_name": "Python 3"
    },
    "language_info": {
      "name": "python"
    }
  },
  "cells": [
    {
      "cell_type": "code",
      "execution_count": 1,
      "metadata": {
        "colab": {
          "base_uri": "https://localhost:8080/"
        },
        "id": "_h1FumKhSHnp",
        "outputId": "93930d36-ab41-452d-be38-57239a3d4c2d"
      },
      "outputs": [
        {
          "output_type": "stream",
          "name": "stdout",
          "text": [
            "<class 'pandas.core.frame.DataFrame'>\n",
            "RangeIndex: 12495 entries, 0 to 12494\n",
            "Data columns (total 12 columns):\n",
            " #   Column                Non-Null Count  Dtype \n",
            "---  ------                --------------  ----- \n",
            " 0   reviewId              12495 non-null  object\n",
            " 1   userName              12495 non-null  object\n",
            " 2   userImage             12495 non-null  object\n",
            " 3   content               12495 non-null  object\n",
            " 4   score                 12495 non-null  int64 \n",
            " 5   thumbsUpCount         12495 non-null  int64 \n",
            " 6   reviewCreatedVersion  10333 non-null  object\n",
            " 7   at                    12495 non-null  object\n",
            " 8   replyContent          5818 non-null   object\n",
            " 9   repliedAt             5818 non-null   object\n",
            " 10  sortOrder             12495 non-null  object\n",
            " 11  appId                 12495 non-null  object\n",
            "dtypes: int64(2), object(10)\n",
            "memory usage: 1.1+ MB\n"
          ]
        },
        {
          "output_type": "execute_result",
          "data": {
            "text/plain": [
              "(None,\n",
              "                                             reviewId  \\\n",
              " 0  gp:AOqpTOEhZuqSqqWnaKRgv-9ABYdajFUB0WugPGh-SG-...   \n",
              " 1  gp:AOqpTOH0WP4IQKBZ2LrdNmFy_YmpPCVrV3diEU9KGm3...   \n",
              " 2  gp:AOqpTOEMCkJB8Iq1p-r9dPwnSYadA5BkPWTf32Z1azu...   \n",
              " 3  gp:AOqpTOGFrUWuKGycpje8kszj3uwHN6tU_fd4gLVFy9z...   \n",
              " 4  gp:AOqpTOHls7DW8wmDFzTkHwxuqFkdNQtKHmO6Pt9jhZE...   \n",
              " \n",
              "                            userName  \\\n",
              " 0                          Eric Tie   \n",
              " 1                        john alpha   \n",
              " 2                       Sudhakar .S   \n",
              " 3  SKGflorida@bellsouth.net DAVID S   \n",
              " 4                     Louann Stoker   \n",
              " \n",
              "                                            userImage  \\\n",
              " 0  https://play-lh.googleusercontent.com/a-/AOh14...   \n",
              " 1  https://play-lh.googleusercontent.com/a-/AOh14...   \n",
              " 2  https://play-lh.googleusercontent.com/a-/AOh14...   \n",
              " 3  https://play-lh.googleusercontent.com/-75aK0WF...   \n",
              " 4  https://play-lh.googleusercontent.com/-pBcY_Z-...   \n",
              " \n",
              "                                              content  score  thumbsUpCount  \\\n",
              " 0                      I cannot open the app anymore      1              0   \n",
              " 1  I have been begging for a refund from this app...      1              0   \n",
              " 2  Very costly for the premium version (approx In...      1              0   \n",
              " 3  Used to keep me organized, but all the 2020 UP...      1              0   \n",
              " 4                                Dan Birthday Oct 28      1              0   \n",
              " \n",
              "   reviewCreatedVersion                   at  \\\n",
              " 0              5.4.0.6  2020-10-27 21:24:41   \n",
              " 1                  NaN  2020-10-27 14:03:28   \n",
              " 2                  NaN  2020-10-27 08:18:40   \n",
              " 3                  NaN  2020-10-26 13:28:07   \n",
              " 4              5.6.0.7  2020-10-26 06:10:50   \n",
              " \n",
              "                                         replyContent            repliedAt  \\\n",
              " 0                                                NaN                  NaN   \n",
              " 1  Please note that from checking our records, yo...  2020-10-27 15:05:52   \n",
              " 2                                                NaN                  NaN   \n",
              " 3  What do you find troublesome about the update?...  2020-10-26 14:58:29   \n",
              " 4                                                NaN                  NaN   \n",
              " \n",
              "   sortOrder      appId  \n",
              " 0    newest  com.anydo  \n",
              " 1    newest  com.anydo  \n",
              " 2    newest  com.anydo  \n",
              " 3    newest  com.anydo  \n",
              " 4    newest  com.anydo  )"
            ]
          },
          "metadata": {},
          "execution_count": 1
        }
      ],
      "source": [
        "import pandas as pd\n",
        "\n",
        "# Load the dataset\n",
        "file_path = '/content/reviews.csv'\n",
        "data = pd.read_csv(file_path)\n",
        "\n",
        "# Display basic information about the dataset\n",
        "dataset_info = data.info()\n",
        "\n",
        "# Display the first few rows of the dataset\n",
        "first_rows = data.head()\n",
        "\n",
        "dataset_info, first_rows\n"
      ]
    },
    {
      "cell_type": "code",
      "source": [
        "\n",
        "simplified_data = data[['content', 'score']]\n",
        "\n",
        "simplified_data.head()\n"
      ],
      "metadata": {
        "colab": {
          "base_uri": "https://localhost:8080/",
          "height": 206
        },
        "id": "2DAUJ1L0SxNC",
        "outputId": "6606cfe2-3a41-4aad-ce39-efe28c07527a"
      },
      "execution_count": 2,
      "outputs": [
        {
          "output_type": "execute_result",
          "data": {
            "text/plain": [
              "                                             content  score\n",
              "0                      I cannot open the app anymore      1\n",
              "1  I have been begging for a refund from this app...      1\n",
              "2  Very costly for the premium version (approx In...      1\n",
              "3  Used to keep me organized, but all the 2020 UP...      1\n",
              "4                                Dan Birthday Oct 28      1"
            ],
            "text/html": [
              "\n",
              "  <div id=\"df-1d82a6f9-37af-419f-ba2f-3418059d87dc\" class=\"colab-df-container\">\n",
              "    <div>\n",
              "<style scoped>\n",
              "    .dataframe tbody tr th:only-of-type {\n",
              "        vertical-align: middle;\n",
              "    }\n",
              "\n",
              "    .dataframe tbody tr th {\n",
              "        vertical-align: top;\n",
              "    }\n",
              "\n",
              "    .dataframe thead th {\n",
              "        text-align: right;\n",
              "    }\n",
              "</style>\n",
              "<table border=\"1\" class=\"dataframe\">\n",
              "  <thead>\n",
              "    <tr style=\"text-align: right;\">\n",
              "      <th></th>\n",
              "      <th>content</th>\n",
              "      <th>score</th>\n",
              "    </tr>\n",
              "  </thead>\n",
              "  <tbody>\n",
              "    <tr>\n",
              "      <th>0</th>\n",
              "      <td>I cannot open the app anymore</td>\n",
              "      <td>1</td>\n",
              "    </tr>\n",
              "    <tr>\n",
              "      <th>1</th>\n",
              "      <td>I have been begging for a refund from this app...</td>\n",
              "      <td>1</td>\n",
              "    </tr>\n",
              "    <tr>\n",
              "      <th>2</th>\n",
              "      <td>Very costly for the premium version (approx In...</td>\n",
              "      <td>1</td>\n",
              "    </tr>\n",
              "    <tr>\n",
              "      <th>3</th>\n",
              "      <td>Used to keep me organized, but all the 2020 UP...</td>\n",
              "      <td>1</td>\n",
              "    </tr>\n",
              "    <tr>\n",
              "      <th>4</th>\n",
              "      <td>Dan Birthday Oct 28</td>\n",
              "      <td>1</td>\n",
              "    </tr>\n",
              "  </tbody>\n",
              "</table>\n",
              "</div>\n",
              "    <div class=\"colab-df-buttons\">\n",
              "\n",
              "  <div class=\"colab-df-container\">\n",
              "    <button class=\"colab-df-convert\" onclick=\"convertToInteractive('df-1d82a6f9-37af-419f-ba2f-3418059d87dc')\"\n",
              "            title=\"Convert this dataframe to an interactive table.\"\n",
              "            style=\"display:none;\">\n",
              "\n",
              "  <svg xmlns=\"http://www.w3.org/2000/svg\" height=\"24px\" viewBox=\"0 -960 960 960\">\n",
              "    <path d=\"M120-120v-720h720v720H120Zm60-500h600v-160H180v160Zm220 220h160v-160H400v160Zm0 220h160v-160H400v160ZM180-400h160v-160H180v160Zm440 0h160v-160H620v160ZM180-180h160v-160H180v160Zm440 0h160v-160H620v160Z\"/>\n",
              "  </svg>\n",
              "    </button>\n",
              "\n",
              "  <style>\n",
              "    .colab-df-container {\n",
              "      display:flex;\n",
              "      gap: 12px;\n",
              "    }\n",
              "\n",
              "    .colab-df-convert {\n",
              "      background-color: #E8F0FE;\n",
              "      border: none;\n",
              "      border-radius: 50%;\n",
              "      cursor: pointer;\n",
              "      display: none;\n",
              "      fill: #1967D2;\n",
              "      height: 32px;\n",
              "      padding: 0 0 0 0;\n",
              "      width: 32px;\n",
              "    }\n",
              "\n",
              "    .colab-df-convert:hover {\n",
              "      background-color: #E2EBFA;\n",
              "      box-shadow: 0px 1px 2px rgba(60, 64, 67, 0.3), 0px 1px 3px 1px rgba(60, 64, 67, 0.15);\n",
              "      fill: #174EA6;\n",
              "    }\n",
              "\n",
              "    .colab-df-buttons div {\n",
              "      margin-bottom: 4px;\n",
              "    }\n",
              "\n",
              "    [theme=dark] .colab-df-convert {\n",
              "      background-color: #3B4455;\n",
              "      fill: #D2E3FC;\n",
              "    }\n",
              "\n",
              "    [theme=dark] .colab-df-convert:hover {\n",
              "      background-color: #434B5C;\n",
              "      box-shadow: 0px 1px 3px 1px rgba(0, 0, 0, 0.15);\n",
              "      filter: drop-shadow(0px 1px 2px rgba(0, 0, 0, 0.3));\n",
              "      fill: #FFFFFF;\n",
              "    }\n",
              "  </style>\n",
              "\n",
              "    <script>\n",
              "      const buttonEl =\n",
              "        document.querySelector('#df-1d82a6f9-37af-419f-ba2f-3418059d87dc button.colab-df-convert');\n",
              "      buttonEl.style.display =\n",
              "        google.colab.kernel.accessAllowed ? 'block' : 'none';\n",
              "\n",
              "      async function convertToInteractive(key) {\n",
              "        const element = document.querySelector('#df-1d82a6f9-37af-419f-ba2f-3418059d87dc');\n",
              "        const dataTable =\n",
              "          await google.colab.kernel.invokeFunction('convertToInteractive',\n",
              "                                                    [key], {});\n",
              "        if (!dataTable) return;\n",
              "\n",
              "        const docLinkHtml = 'Like what you see? Visit the ' +\n",
              "          '<a target=\"_blank\" href=https://colab.research.google.com/notebooks/data_table.ipynb>data table notebook</a>'\n",
              "          + ' to learn more about interactive tables.';\n",
              "        element.innerHTML = '';\n",
              "        dataTable['output_type'] = 'display_data';\n",
              "        await google.colab.output.renderOutput(dataTable, element);\n",
              "        const docLink = document.createElement('div');\n",
              "        docLink.innerHTML = docLinkHtml;\n",
              "        element.appendChild(docLink);\n",
              "      }\n",
              "    </script>\n",
              "  </div>\n",
              "\n",
              "\n",
              "<div id=\"df-53c4e5c7-d132-4caa-8fb9-e5017841e24f\">\n",
              "  <button class=\"colab-df-quickchart\" onclick=\"quickchart('df-53c4e5c7-d132-4caa-8fb9-e5017841e24f')\"\n",
              "            title=\"Suggest charts\"\n",
              "            style=\"display:none;\">\n",
              "\n",
              "<svg xmlns=\"http://www.w3.org/2000/svg\" height=\"24px\"viewBox=\"0 0 24 24\"\n",
              "     width=\"24px\">\n",
              "    <g>\n",
              "        <path d=\"M19 3H5c-1.1 0-2 .9-2 2v14c0 1.1.9 2 2 2h14c1.1 0 2-.9 2-2V5c0-1.1-.9-2-2-2zM9 17H7v-7h2v7zm4 0h-2V7h2v10zm4 0h-2v-4h2v4z\"/>\n",
              "    </g>\n",
              "</svg>\n",
              "  </button>\n",
              "\n",
              "<style>\n",
              "  .colab-df-quickchart {\n",
              "      --bg-color: #E8F0FE;\n",
              "      --fill-color: #1967D2;\n",
              "      --hover-bg-color: #E2EBFA;\n",
              "      --hover-fill-color: #174EA6;\n",
              "      --disabled-fill-color: #AAA;\n",
              "      --disabled-bg-color: #DDD;\n",
              "  }\n",
              "\n",
              "  [theme=dark] .colab-df-quickchart {\n",
              "      --bg-color: #3B4455;\n",
              "      --fill-color: #D2E3FC;\n",
              "      --hover-bg-color: #434B5C;\n",
              "      --hover-fill-color: #FFFFFF;\n",
              "      --disabled-bg-color: #3B4455;\n",
              "      --disabled-fill-color: #666;\n",
              "  }\n",
              "\n",
              "  .colab-df-quickchart {\n",
              "    background-color: var(--bg-color);\n",
              "    border: none;\n",
              "    border-radius: 50%;\n",
              "    cursor: pointer;\n",
              "    display: none;\n",
              "    fill: var(--fill-color);\n",
              "    height: 32px;\n",
              "    padding: 0;\n",
              "    width: 32px;\n",
              "  }\n",
              "\n",
              "  .colab-df-quickchart:hover {\n",
              "    background-color: var(--hover-bg-color);\n",
              "    box-shadow: 0 1px 2px rgba(60, 64, 67, 0.3), 0 1px 3px 1px rgba(60, 64, 67, 0.15);\n",
              "    fill: var(--button-hover-fill-color);\n",
              "  }\n",
              "\n",
              "  .colab-df-quickchart-complete:disabled,\n",
              "  .colab-df-quickchart-complete:disabled:hover {\n",
              "    background-color: var(--disabled-bg-color);\n",
              "    fill: var(--disabled-fill-color);\n",
              "    box-shadow: none;\n",
              "  }\n",
              "\n",
              "  .colab-df-spinner {\n",
              "    border: 2px solid var(--fill-color);\n",
              "    border-color: transparent;\n",
              "    border-bottom-color: var(--fill-color);\n",
              "    animation:\n",
              "      spin 1s steps(1) infinite;\n",
              "  }\n",
              "\n",
              "  @keyframes spin {\n",
              "    0% {\n",
              "      border-color: transparent;\n",
              "      border-bottom-color: var(--fill-color);\n",
              "      border-left-color: var(--fill-color);\n",
              "    }\n",
              "    20% {\n",
              "      border-color: transparent;\n",
              "      border-left-color: var(--fill-color);\n",
              "      border-top-color: var(--fill-color);\n",
              "    }\n",
              "    30% {\n",
              "      border-color: transparent;\n",
              "      border-left-color: var(--fill-color);\n",
              "      border-top-color: var(--fill-color);\n",
              "      border-right-color: var(--fill-color);\n",
              "    }\n",
              "    40% {\n",
              "      border-color: transparent;\n",
              "      border-right-color: var(--fill-color);\n",
              "      border-top-color: var(--fill-color);\n",
              "    }\n",
              "    60% {\n",
              "      border-color: transparent;\n",
              "      border-right-color: var(--fill-color);\n",
              "    }\n",
              "    80% {\n",
              "      border-color: transparent;\n",
              "      border-right-color: var(--fill-color);\n",
              "      border-bottom-color: var(--fill-color);\n",
              "    }\n",
              "    90% {\n",
              "      border-color: transparent;\n",
              "      border-bottom-color: var(--fill-color);\n",
              "    }\n",
              "  }\n",
              "</style>\n",
              "\n",
              "  <script>\n",
              "    async function quickchart(key) {\n",
              "      const quickchartButtonEl =\n",
              "        document.querySelector('#' + key + ' button');\n",
              "      quickchartButtonEl.disabled = true;  // To prevent multiple clicks.\n",
              "      quickchartButtonEl.classList.add('colab-df-spinner');\n",
              "      try {\n",
              "        const charts = await google.colab.kernel.invokeFunction(\n",
              "            'suggestCharts', [key], {});\n",
              "      } catch (error) {\n",
              "        console.error('Error during call to suggestCharts:', error);\n",
              "      }\n",
              "      quickchartButtonEl.classList.remove('colab-df-spinner');\n",
              "      quickchartButtonEl.classList.add('colab-df-quickchart-complete');\n",
              "    }\n",
              "    (() => {\n",
              "      let quickchartButtonEl =\n",
              "        document.querySelector('#df-53c4e5c7-d132-4caa-8fb9-e5017841e24f button');\n",
              "      quickchartButtonEl.style.display =\n",
              "        google.colab.kernel.accessAllowed ? 'block' : 'none';\n",
              "    })();\n",
              "  </script>\n",
              "</div>\n",
              "\n",
              "    </div>\n",
              "  </div>\n"
            ],
            "application/vnd.google.colaboratory.intrinsic+json": {
              "type": "dataframe",
              "variable_name": "simplified_data",
              "summary": "{\n  \"name\": \"simplified_data\",\n  \"rows\": 12495,\n  \"fields\": [\n    {\n      \"column\": \"content\",\n      \"properties\": {\n        \"dtype\": \"string\",\n        \"num_unique_values\": 11807,\n        \"samples\": [\n          \"Awesome app! Easier to keep track of schedule and never forget a thing.\",\n          \"This app is perfect for my needs but there is one issue that I just noticed on repeated tasks. Once you hit complete the task, it will not add automaticly the next task. You have to check and then uncheck the task in order to show the next repeated task. Otherwise if you leave the task checked, it will not remind you for the next repeated task.\",\n          \"Non-functional with Google account. Was great, but can't use right now.\"\n        ],\n        \"semantic_type\": \"\",\n        \"description\": \"\"\n      }\n    },\n    {\n      \"column\": \"score\",\n      \"properties\": {\n        \"dtype\": \"number\",\n        \"std\": 1,\n        \"min\": 1,\n        \"max\": 5,\n        \"num_unique_values\": 5,\n        \"samples\": [\n          2,\n          5,\n          3\n        ],\n        \"semantic_type\": \"\",\n        \"description\": \"\"\n      }\n    }\n  ]\n}"
            }
          },
          "metadata": {},
          "execution_count": 2
        }
      ]
    },
    {
      "cell_type": "code",
      "source": [
        "from sklearn.model_selection import train_test_split\n",
        "\n",
        "# Divide the dataset into training and test sets\n",
        "train_data, test_data = train_test_split(simplified_data, test_size=0.2, random_state=42)\n",
        "\n",
        "# Display the sizes of the training and test sets\n",
        "train_data_size = train_data.shape[0]\n",
        "test_data_size = test_data.shape[0]\n",
        "\n",
        "train_data_size, test_data_size\n"
      ],
      "metadata": {
        "colab": {
          "base_uri": "https://localhost:8080/"
        },
        "id": "t6iAo21IS11M",
        "outputId": "b70bbf73-2319-4de2-c283-8b22b64b793c"
      },
      "execution_count": 3,
      "outputs": [
        {
          "output_type": "execute_result",
          "data": {
            "text/plain": [
              "(9996, 2499)"
            ]
          },
          "metadata": {},
          "execution_count": 3
        }
      ]
    },
    {
      "cell_type": "code",
      "source": [
        "from sklearn.feature_extraction.text import TfidfVectorizer\n",
        "from sklearn.pipeline import make_pipeline\n",
        "from sklearn.linear_model import LogisticRegression\n",
        "from sklearn.metrics import classification_report, accuracy_score\n",
        "\n",
        "train_data['sentiment'] = train_data['score'].apply(lambda x: 'positive' if x > 3 else ('neutral' if x == 3 else 'negative'))\n",
        "test_data['sentiment'] = test_data['score'].apply(lambda x: 'positive' if x > 3 else ('neutral' if x == 3 else 'negative'))\n",
        "\n",
        "modellr= make_pipeline(\n",
        "    TfidfVectorizer(stop_words='english'),\n",
        "    LogisticRegression(max_iter=1000)\n",
        ")\n",
        "\n",
        "modellr.fit(train_data['content'], train_data['sentiment'])\n",
        "\n",
        "predictions = modellr.predict(test_data['content'])\n",
        "\n",
        "report = classification_report(test_data['sentiment'], predictions)\n",
        "accuracy = accuracy_score(test_data['sentiment'], predictions)\n",
        "\n",
        "report, accuracy\n"
      ],
      "metadata": {
        "colab": {
          "base_uri": "https://localhost:8080/"
        },
        "id": "Qj7DFY4AS6xu",
        "outputId": "ccb73882-3eab-470a-e782-483b7a93eaf0"
      },
      "execution_count": 4,
      "outputs": [
        {
          "output_type": "execute_result",
          "data": {
            "text/plain": [
              "('              precision    recall  f1-score   support\\n\\n    negative       0.68      0.84      0.75       958\\n     neutral       0.40      0.09      0.14       421\\n    positive       0.76      0.83      0.79      1120\\n\\n    accuracy                           0.71      2499\\n   macro avg       0.61      0.58      0.56      2499\\nweighted avg       0.67      0.71      0.67      2499\\n',\n",
              " 0.7070828331332533)"
            ]
          },
          "metadata": {},
          "execution_count": 4
        }
      ]
    },
    {
      "cell_type": "code",
      "source": [
        "from tensorflow.keras.models import Sequential\n",
        "from tensorflow.keras.layers import Embedding, LSTM, Dense, Dropout\n",
        "from tensorflow.keras.preprocessing.text import Tokenizer\n",
        "from tensorflow.keras.preprocessing.sequence import pad_sequences\n",
        "from sklearn.preprocessing import LabelEncoder\n",
        "from tensorflow.keras.utils import to_categorical\n",
        "import numpy as np\n",
        "\n",
        "\n",
        "tokenizer = Tokenizer(num_words=5000)\n",
        "tokenizer.fit_on_texts(train_data['content'])\n",
        "X_train = tokenizer.texts_to_sequences(train_data['content'])\n",
        "X_test = tokenizer.texts_to_sequences(test_data['content'])\n",
        "\n",
        "maxlen = 100  # You might want to choose a different `maxlen`\n",
        "X_train = pad_sequences(X_train, padding='post', maxlen=maxlen)\n",
        "X_test = pad_sequences(X_test, padding='post', maxlen=maxlen)\n",
        "\n",
        "encoder = LabelEncoder()\n",
        "encoder.fit(train_data['sentiment'])\n",
        "y_train = encoder.transform(train_data['sentiment'])\n",
        "y_test = encoder.transform(test_data['sentiment'])\n",
        "num_classes = np.max(y_train) + 1\n",
        "y_train = to_categorical(y_train, num_classes)\n",
        "y_test = to_categorical(y_test, num_classes)\n",
        "\n",
        "model = Sequential()\n",
        "model.add(Embedding(input_dim=5000, output_dim=100, input_length=maxlen))\n",
        "model.add(LSTM(128))\n",
        "model.add(Dropout(0.5))\n",
        "model.add(Dense(num_classes, activation='softmax'))\n",
        "\n",
        "# Compile the model\n",
        "model.compile(optimizer='adam', loss='categorical_crossentropy', metrics=['accuracy'])\n",
        "\n",
        "# Train the model\n",
        "model.fit(X_train, y_train, batch_size=32, epochs=5, validation_data=(X_test, y_test))\n",
        "\n",
        "# Evaluate the model\n",
        "loss, accuracy = model.evaluate(X_test, y_test)\n",
        "print(f'Test Accuracy: {accuracy}')\n"
      ],
      "metadata": {
        "colab": {
          "base_uri": "https://localhost:8080/"
        },
        "id": "JUc4UHDiS-cQ",
        "outputId": "0442c09c-b9ea-4ab7-9ce7-ffbe6cc04972"
      },
      "execution_count": 5,
      "outputs": [
        {
          "output_type": "stream",
          "name": "stdout",
          "text": [
            "Epoch 1/5\n",
            "313/313 [==============================] - 63s 194ms/step - loss: 1.0237 - accuracy: 0.4391 - val_loss: 1.0280 - val_accuracy: 0.4478\n",
            "Epoch 2/5\n",
            "313/313 [==============================] - 60s 191ms/step - loss: 1.0198 - accuracy: 0.4465 - val_loss: 1.0318 - val_accuracy: 0.4482\n",
            "Epoch 3/5\n",
            "313/313 [==============================] - 57s 183ms/step - loss: 1.0176 - accuracy: 0.4536 - val_loss: 1.0270 - val_accuracy: 0.4530\n",
            "Epoch 4/5\n",
            "313/313 [==============================] - 57s 183ms/step - loss: 1.0146 - accuracy: 0.4627 - val_loss: 1.0277 - val_accuracy: 0.4554\n",
            "Epoch 5/5\n",
            "313/313 [==============================] - 58s 186ms/step - loss: 1.0100 - accuracy: 0.4769 - val_loss: 0.9870 - val_accuracy: 0.5370\n",
            "79/79 [==============================] - 4s 49ms/step - loss: 0.9870 - accuracy: 0.5370\n",
            "Test Accuracy: 0.5370147824287415\n"
          ]
        }
      ]
    },
    {
      "cell_type": "markdown",
      "source": [
        "We used two algorithms LSTM and logistic regression and we found that Logistic regression was performing better than LSTM With 71% accuracy"
      ],
      "metadata": {
        "id": "dDPNRV1tW6DX"
      }
    },
    {
      "cell_type": "code",
      "source": [
        "import pickle\n",
        "filename='trained_model.sav'\n",
        "pickle.dump(modellr,open(filename,'wb'))"
      ],
      "metadata": {
        "id": "VB1bfwk6XDhq"
      },
      "execution_count": 9,
      "outputs": []
    },
    {
      "cell_type": "code",
      "source": [
        "loaded_model=pickle.load(open('/content/trained_model.sav','rb'))"
      ],
      "metadata": {
        "id": "nAH3l6edECwS"
      },
      "execution_count": 10,
      "outputs": []
    },
    {
      "cell_type": "code",
      "source": [
        "import pickle\n",
        "\n",
        "# Load the model from the pickle file\n",
        "with open('/content/trained_model.sav', 'rb') as file:\n",
        "    modellr = pickle.load(file)\n",
        "\n",
        "# Make predictions\n",
        "predictions = modellr.predict(test_data['content'])\n",
        "\n",
        "# Evaluate predictions\n",
        "report = classification_report(test_data['sentiment'], predictions)\n",
        "accuracy = accuracy_score(test_data['sentiment'], predictions)\n",
        "\n",
        "print(\"Classification Report:\\n\", report)\n",
        "print(\"Accuracy:\", accuracy)\n"
      ],
      "metadata": {
        "colab": {
          "base_uri": "https://localhost:8080/"
        },
        "id": "BmvYUd9LEc3K",
        "outputId": "7e10538a-a403-4cc2-fdb8-ebb22d18658a"
      },
      "execution_count": 11,
      "outputs": [
        {
          "output_type": "stream",
          "name": "stdout",
          "text": [
            "Classification Report:\n",
            "               precision    recall  f1-score   support\n",
            "\n",
            "    negative       0.68      0.84      0.75       958\n",
            "     neutral       0.40      0.09      0.14       421\n",
            "    positive       0.76      0.83      0.79      1120\n",
            "\n",
            "    accuracy                           0.71      2499\n",
            "   macro avg       0.61      0.58      0.56      2499\n",
            "weighted avg       0.67      0.71      0.67      2499\n",
            "\n",
            "Accuracy: 0.7070828331332533\n"
          ]
        }
      ]
    },
    {
      "cell_type": "markdown",
      "source": [
        "2 : Negative Score 3 : Neutral Score 4 : Positive Score 5 : Very Positive"
      ],
      "metadata": {
        "id": "L8gaKIk8JVlL"
      }
    }
  ]
}